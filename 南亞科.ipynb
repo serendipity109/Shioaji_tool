{
 "cells": [
  {
   "cell_type": "code",
   "execution_count": 1,
   "id": "b77d097e",
   "metadata": {},
   "outputs": [],
   "source": [
    "stock = str(2408)"
   ]
  },
  {
   "cell_type": "code",
   "execution_count": 4,
   "id": "d5cd65f5",
   "metadata": {},
   "outputs": [],
   "source": [
    "import yaml\n",
    "credentials = yaml.load(open('./credentials.yaml'), Loader=yaml.FullLoader)\n",
    "import shioaji as sj\n",
    "api = sj.Shioaji()\n",
    "accounts = api.login(credentials['API']['YOUR_PERSON_ID'], credentials['API']['YOUR_PASSWORD'])\n",
    "api.activate_ca(\n",
    "    ca_path=credentials['activate_ca']['ca_path'],\n",
    "    ca_passwd=credentials['activate_ca']['ca_passwd'],\n",
    "    person_id=credentials['activate_ca']['person_id']\n",
    ")"
   ]
  },
  {
   "cell_type": "code",
   "execution_count": 7,
   "id": "28aa8a54",
   "metadata": {},
   "outputs": [],
   "source": [
    "import pandas as pd\n",
    "from statistics import stdev, mean\n",
    "import datetime\n",
    "import easygui\n",
    "import numpy as np\n",
    "from scipy.interpolate import make_interp_spline\n",
    "import matplotlib.pyplot as plt\n",
    "from IPython.display import clear_output\n",
    "class Quantitative:\n",
    "    def __init__(self, stock):\n",
    "        self.stock = stock\n",
    "        datetime_dt = datetime.datetime.today()# 獲得當地時間\n",
    "        self.today = datetime_dt.strftime(\"%Y-%m-%d\") \n",
    "        self.state = 0 # 1:finding low point, 2: finding high point\n",
    "    def std(self, date=\"2021-06-16\"):\n",
    "        \"\"\"\"計算前一天標準差\"\"\"\n",
    "        ticks = api.ticks(\n",
    "            contract=api.Contracts.Stocks[self.stock], \n",
    "            date=date\n",
    "        )\n",
    "        df = pd.DataFrame({**ticks})\n",
    "        prices = df['close'].values[:]\n",
    "        prices = prices[prices != 0.0]\n",
    "        return stdev(prices)\n",
    "    def num_to_buy(self, money=3000):\n",
    "        \"\"\"\"欲購買金額的股數\"\"\"\n",
    "        ticks = api.ticks(\n",
    "            contract=api.Contracts.Stocks[self.stock], \n",
    "            date=self.today\n",
    "        )\n",
    "        df = pd.DataFrame({**ticks})\n",
    "        price = df['close'].values[-1]\n",
    "        return int(money/price)\n",
    "    def announce(self, std_date=\"2021-06-16\"):\n",
    "        \"\"\"\"抄底、賣點通知\"\"\"\n",
    "        std = self.std(std_date)\n",
    "        ticks = api.ticks(\n",
    "            contract=api.Contracts.Stocks[self.stock], \n",
    "            date=self.today\n",
    "        )\n",
    "        self.df = pd.DataFrame({**ticks})\n",
    "        prices = self.df['close'].values[:]; prices = prices[prices != 0.0]\n",
    "        if self.state == 0:\n",
    "            if prices[-1] > mean(prices) + std:   \n",
    "                self.state = 2\n",
    "                easygui.msgbox(msg=f\"相對高點：股價　{prices[-1]}\", title=\"high\")\n",
    "            elif prices[-1] < mean(prices) - std: \n",
    "                self.state = 1\n",
    "                easygui.msgbox(msg=f\"相對低點：股價　{prices[-1]}\", title=\"low\")    \n",
    "        elif self.state == 1: #抄底\n",
    "            if prices[-1] > mean(prices[-200: -1]) and min(prices[-200: -1]) < min(prices[:-200]):\n",
    "                n_stock = self.num_to_buy()\n",
    "                easygui.msgbox(msg=f\"抄底{n_stock}股\", title=\"low\")\n",
    "                self.state = 0\n",
    "        else:\n",
    "            if prices[-1] < mean(prices[-200: -1]) and max(prices[-200: -1]) > max(prices[:-200]): # 賣\n",
    "                easygui.msgbox(msg=\"賣\", title=\"high\")\n",
    "                self.state = 0\n",
    "    def plot(self):\n",
    "        \"\"\"\"股票走勢圖\"\"\"\n",
    "        clear_output(wait=True)\n",
    "        x = np.array(range(len(self.df.index)))\n",
    "        y = self.df['close'].values[:]\n",
    "        price = self.df['close'].values[-1]\n",
    "        X_Y_Spline = make_interp_spline(x, y)\n",
    "        X_ = np.linspace(x.min(), x.max(), 500)\n",
    "        Y_ = X_Y_Spline(X_)\n",
    "        plt.plot(X_, Y_)\n",
    "        plt.title(f\"now price: {price}\")\n",
    "        plt.show()"
   ]
  },
  {
   "cell_type": "code",
   "execution_count": null,
   "id": "feab8b80",
   "metadata": {},
   "outputs": [
    {
     "data": {
      "image/png": "[encoded data removed]",
      "text/plain": [
       "<Figure size 432x288 with 1 Axes>"
      ]
     },
     "metadata": {
      "needs_background": "light"
     },
     "output_type": "display_data"
    }
   ],
   "source": [
    "import time\n",
    "def get_time():\n",
    "    datetime_dt = datetime.datetime.today()# 獲得當地時間\n",
    "    return datetime_dt.strftime(\"%H:%M\") \n",
    "\n",
    "qt = Quantitative(stock)\n",
    "\n",
    "while get_time() != \"13:30\":\n",
    "    qt.announce(std_date=\"2021-06-16\")\n",
    "    qt.plot()\n",
    "    time.sleep(4)"
   ]
  },
  {
   "cell_type": "code",
   "execution_count": null,
   "id": "1c32ad50",
   "metadata": {},
   "outputs": [],
   "source": []
  }
 ],
 "metadata": {
  "kernelspec": {
   "display_name": "Python 3",
   "language": "python",
   "name": "python3"
  },
  "language_info": {
   "codemirror_mode": {
    "name": "ipython",
    "version": 3
   },
   "file_extension": ".py",
   "mimetype": "text/x-python",
   "name": "python",
   "nbconvert_exporter": "python",
   "pygments_lexer": "ipython3",
   "version": "3.8.8"
  }
 },
 "nbformat": 4,
 "nbformat_minor": 5
}
